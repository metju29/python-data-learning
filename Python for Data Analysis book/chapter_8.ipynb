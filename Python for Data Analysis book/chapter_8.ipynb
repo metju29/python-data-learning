{
 "cells": [
  {
   "cell_type": "markdown",
   "metadata": {},
   "source": [
    "8.1 Hierarchical Indexing"
   ]
  },
  {
   "cell_type": "code",
   "execution_count": 8,
   "metadata": {},
   "outputs": [
    {
     "name": "stdout",
     "output_type": "stream",
     "text": [
      "a  1   -0.753332\n",
      "   2    0.859014\n",
      "   3   -0.996806\n",
      "b  1    0.462221\n",
      "   3   -1.020178\n",
      "c  1    0.439455\n",
      "   2   -0.377132\n",
      "d  2   -1.674719\n",
      "   3    0.178594\n",
      "dtype: float64\n",
      "\n",
      "\n",
      "MultiIndex([('a', 1),\n",
      "            ('a', 2),\n",
      "            ('a', 3),\n",
      "            ('b', 1),\n",
      "            ('b', 3),\n",
      "            ('c', 1),\n",
      "            ('c', 2),\n",
      "            ('d', 2),\n",
      "            ('d', 3)],\n",
      "           )\n",
      "\n",
      "\n",
      "1    0.462221\n",
      "3   -1.020178\n",
      "dtype: float64\n",
      "\n",
      "\n",
      "b  1    0.462221\n",
      "   3   -1.020178\n",
      "c  1    0.439455\n",
      "   2   -0.377132\n",
      "dtype: float64\n",
      "\n",
      "\n",
      "b  1    0.462221\n",
      "   3   -1.020178\n",
      "d  2   -1.674719\n",
      "   3    0.178594\n",
      "dtype: float64\n",
      "\n",
      "\n",
      "a    0.859014\n",
      "c   -0.377132\n",
      "d   -1.674719\n",
      "dtype: float64\n",
      "\n",
      "\n",
      "          1         2         3\n",
      "a -0.753332  0.859014 -0.996806\n",
      "b  0.462221       NaN -1.020178\n",
      "c  0.439455 -0.377132       NaN\n",
      "d       NaN -1.674719  0.178594\n",
      "\n",
      "\n",
      "a  1   -0.753332\n",
      "   2    0.859014\n",
      "   3   -0.996806\n",
      "b  1    0.462221\n",
      "   3   -1.020178\n",
      "c  1    0.439455\n",
      "   2   -0.377132\n",
      "d  2   -1.674719\n",
      "   3    0.178594\n",
      "dtype: float64\n"
     ]
    }
   ],
   "source": [
    "import pandas as pd\n",
    "import numpy as np\n",
    "\n",
    "\n",
    "data = pd.Series(np.random.randn(9),\n",
    "                 index=[[\"a\", \"a\", \"a\", \"b\", \"b\", \"c\", \"c\", \"d\", \"d\"],\n",
    "                        [1, 2, 3, 1, 3, 1, 2, 2, 3]])\n",
    "\n",
    "print(data)\n",
    "print('\\n')\n",
    "print(data.index)\n",
    "print('\\n')\n",
    "print(data['b'])\n",
    "print('\\n')\n",
    "print(data['b':'c'])\n",
    "print('\\n')\n",
    "print(data.loc[['b', 'd']])\n",
    "print('\\n')\n",
    "print(data.loc[:, 2])\n",
    "print('\\n')\n",
    "print(data.unstack())\n",
    "print('\\n')\n",
    "print(data.unstack().stack())"
   ]
  },
  {
   "cell_type": "code",
   "execution_count": 11,
   "metadata": {},
   "outputs": [
    {
     "name": "stdout",
     "output_type": "stream",
     "text": [
      "     Ohio     Colorado\n",
      "    Green Red    Green\n",
      "a 1     0   1        2\n",
      "  2     3   4        5\n",
      "b 1     6   7        8\n",
      "  2     9  10       11\n",
      "\n",
      "\n",
      "state      Ohio     Colorado\n",
      "color     Green Red    Green\n",
      "key1 key2                   \n",
      "a    1        0   1        2\n",
      "     2        3   4        5\n",
      "b    1        6   7        8\n",
      "     2        9  10       11\n",
      "\n",
      "\n",
      "color      Green  Red\n",
      "key1 key2            \n",
      "a    1         0    1\n",
      "     2         3    4\n",
      "b    1         6    7\n",
      "     2         9   10\n"
     ]
    }
   ],
   "source": [
    "frame = pd.DataFrame(np.arange(12).reshape((4, 3)),\n",
    "                     index=[[\"a\", \"a\", \"b\", \"b\"], [1, 2, 1, 2]],\n",
    "                     columns=[[\"Ohio\", \"Ohio\", \"Colorado\"],\n",
    "                              [\"Green\", \"Red\", \"Green\"]])\n",
    "\n",
    "print(frame)\n",
    "\n",
    "frame.index.names = ['key1', 'key2']\n",
    "frame.columns.names = ['state', 'color']\n",
    "\n",
    "print('\\n')\n",
    "print(frame)\n",
    "\n",
    "print('\\n')\n",
    "print(frame['Ohio'])"
   ]
  },
  {
   "cell_type": "code",
   "execution_count": 13,
   "metadata": {},
   "outputs": [
    {
     "name": "stdout",
     "output_type": "stream",
     "text": [
      "state      Ohio     Colorado\n",
      "color     Green Red    Green\n",
      "key1 key2                   \n",
      "a    1        0   1        2\n",
      "b    1        6   7        8\n",
      "a    2        3   4        5\n",
      "b    2        9  10       11\n",
      "\n",
      "\n",
      "state      Ohio     Colorado\n",
      "color     Green Red    Green\n",
      "key2 key1                   \n",
      "1    a        0   1        2\n",
      "     b        6   7        8\n",
      "2    a        3   4        5\n",
      "     b        9  10       11\n"
     ]
    }
   ],
   "source": [
    "# Reordering and Sorting Levels\n",
    "\n",
    "print(frame.sort_index(level=1))\n",
    "\n",
    "print('\\n')\n",
    "print(frame.swaplevel(0, 1).sort_index(level=0))\n"
   ]
  },
  {
   "cell_type": "code",
   "execution_count": 19,
   "metadata": {},
   "outputs": [
    {
     "name": "stdout",
     "output_type": "stream",
     "text": [
      "state  Ohio     Colorado\n",
      "color Green Red    Green\n",
      "key2                    \n",
      "1         6   8       10\n",
      "2        12  14       16\n",
      "\n",
      "\n",
      "color      Green  Red\n",
      "key1 key2            \n",
      "a    1         2    1\n",
      "     2         8    4\n",
      "b    1        14    7\n",
      "     2        20   10\n"
     ]
    }
   ],
   "source": [
    "# Summary Statistics by Level\n",
    "\n",
    "print(frame.groupby('key2').sum())\n",
    "print('\\n')\n",
    "print(frame.T.groupby('color').sum().T)"
   ]
  },
  {
   "cell_type": "code",
   "execution_count": 23,
   "metadata": {},
   "outputs": [
    {
     "name": "stdout",
     "output_type": "stream",
     "text": [
      "   a  b    c  d\n",
      "0  0  7  one  0\n",
      "1  1  6  one  1\n",
      "2  2  5  one  2\n",
      "3  3  4  two  0\n",
      "4  4  3  two  1\n",
      "5  5  2  two  2\n",
      "6  6  1  two  3\n",
      "\n",
      "\n",
      "       a  b\n",
      "c   d      \n",
      "one 0  0  7\n",
      "    1  1  6\n",
      "    2  2  5\n",
      "two 0  3  4\n",
      "    1  4  3\n",
      "    2  5  2\n",
      "    3  6  1\n",
      "\n",
      "\n",
      "       a  b    c  d\n",
      "c   d              \n",
      "one 0  0  7  one  0\n",
      "    1  1  6  one  1\n",
      "    2  2  5  one  2\n",
      "two 0  3  4  two  0\n",
      "    1  4  3  two  1\n",
      "    2  5  2  two  2\n",
      "    3  6  1  two  3\n",
      "\n",
      "\n",
      "<bound method DataFrame.reset_index of        a  b\n",
      "c   d      \n",
      "one 0  0  7\n",
      "    1  1  6\n",
      "    2  2  5\n",
      "two 0  3  4\n",
      "    1  4  3\n",
      "    2  5  2\n",
      "    3  6  1>\n"
     ]
    }
   ],
   "source": [
    "# Indexing with a DataFrame’s columns\n",
    "\n",
    "frame = pd.DataFrame({\"a\": range(7), \"b\": range(7, 0, -1),\n",
    "                      \"c\": [\"one\", \"one\", \"one\", \"two\", \"two\",\n",
    "                            \"two\", \"two\"],\n",
    "                      \"d\": [0, 1, 2, 0, 1, 2, 3]})\n",
    "\n",
    "print(frame)\n",
    "\n",
    "frame2 = frame.set_index(['c', 'd'])\n",
    "print('\\n')\n",
    "print(frame2)\n",
    "\n",
    "print('\\n')\n",
    "print(frame.set_index(['c', 'd'], drop=False))\n",
    "\n",
    "print('\\n')\n",
    "print(frame2.reset_index)"
   ]
  }
 ],
 "metadata": {
  "kernelspec": {
   "display_name": ".venv",
   "language": "python",
   "name": "python3"
  },
  "language_info": {
   "codemirror_mode": {
    "name": "ipython",
    "version": 3
   },
   "file_extension": ".py",
   "mimetype": "text/x-python",
   "name": "python",
   "nbconvert_exporter": "python",
   "pygments_lexer": "ipython3",
   "version": "3.13.3"
  }
 },
 "nbformat": 4,
 "nbformat_minor": 2
}
