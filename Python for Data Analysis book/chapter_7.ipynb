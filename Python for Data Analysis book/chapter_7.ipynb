{
 "cells": [
  {
   "cell_type": "markdown",
   "metadata": {},
   "source": [
    "7.1 Handling Missing Data"
   ]
  },
  {
   "cell_type": "code",
   "execution_count": 4,
   "metadata": {},
   "outputs": [
    {
     "name": "stdout",
     "output_type": "stream",
     "text": [
      "0     aardvark\n",
      "1    artichoke\n",
      "2          NaN\n",
      "3      avocado\n",
      "dtype: object\n",
      "\n",
      "\n",
      "0    False\n",
      "1    False\n",
      "2     True\n",
      "3    False\n",
      "dtype: bool\n",
      "\n",
      "\n",
      "0     True\n",
      "1    False\n",
      "2     True\n",
      "3    False\n",
      "dtype: bool\n"
     ]
    }
   ],
   "source": [
    "import pandas as pd\n",
    "import numpy as np\n",
    "\n",
    "\n",
    "string_data = pd.Series(['aardvark', 'artichoke', np.nan, 'avocado'])\n",
    "print(string_data)\n",
    "print('\\n')\n",
    "print(string_data.isnull())\n",
    "\n",
    "string_data[0] = None\n",
    "print('\\n')\n",
    "print(string_data.isnull())"
   ]
  },
  {
   "cell_type": "code",
   "execution_count": 6,
   "metadata": {},
   "outputs": [
    {
     "name": "stdout",
     "output_type": "stream",
     "text": [
      "0    1.0\n",
      "2    3.5\n",
      "4    7.0\n",
      "dtype: float64\n",
      "\n",
      "\n",
      "0    1.0\n",
      "2    3.5\n",
      "4    7.0\n",
      "dtype: float64\n"
     ]
    }
   ],
   "source": [
    "# Filtering Out Missing Data\n",
    "\n",
    "from numpy import nan as NA\n",
    "\n",
    "\n",
    "data = pd.Series([1, NA, 3.5, NA, 7])\n",
    "print(data.dropna())\n",
    "print('\\n')\n",
    "print(data[data.notnull()])\n",
    "\n"
   ]
  },
  {
   "cell_type": "code",
   "execution_count": 9,
   "metadata": {},
   "outputs": [
    {
     "name": "stdout",
     "output_type": "stream",
     "text": [
      "     0    1    2\n",
      "0  1.0  6.5  3.0\n",
      "1  1.0  NaN  NaN\n",
      "2  NaN  NaN  NaN\n",
      "3  NaN  6.5  3.0\n",
      "\n",
      "\n",
      "     0    1    2\n",
      "0  1.0  6.5  3.0\n",
      "\n",
      "\n",
      "     0    1    2\n",
      "0  1.0  6.5  3.0\n",
      "1  1.0  NaN  NaN\n",
      "3  NaN  6.5  3.0\n"
     ]
    }
   ],
   "source": [
    "data = pd.DataFrame([[1., 6.5, 3.], [1., NA, NA], [NA, NA, NA], [NA, 6.5, 3.]])\n",
    "cleaned = data.dropna()\n",
    "print(data)\n",
    "print('\\n')\n",
    "print(cleaned)\n",
    "print('\\n')\n",
    "print(data.dropna(how='all'))"
   ]
  },
  {
   "cell_type": "code",
   "execution_count": 11,
   "metadata": {},
   "outputs": [
    {
     "name": "stdout",
     "output_type": "stream",
     "text": [
      "\n",
      "\n",
      "     0    1    2   4\n",
      "0  1.0  6.5  3.0 NaN\n",
      "1  1.0  NaN  NaN NaN\n",
      "2  NaN  NaN  NaN NaN\n",
      "3  NaN  6.5  3.0 NaN\n",
      "\n",
      "\n",
      "     0    1    2\n",
      "0  1.0  6.5  3.0\n",
      "1  1.0  NaN  NaN\n",
      "2  NaN  NaN  NaN\n",
      "3  NaN  6.5  3.0\n"
     ]
    }
   ],
   "source": [
    "data[4] = NA\n",
    "print('\\n')\n",
    "print(data)\n",
    "print('\\n')\n",
    "print(data.dropna(axis=1, how='all'))"
   ]
  },
  {
   "cell_type": "code",
   "execution_count": 14,
   "metadata": {},
   "outputs": [
    {
     "name": "stdout",
     "output_type": "stream",
     "text": [
      "          0         1         2\n",
      "0 -2.028763       NaN       NaN\n",
      "1 -1.519579       NaN       NaN\n",
      "2  1.335718       NaN  0.422142\n",
      "3 -1.774236       NaN  1.076331\n",
      "4  1.733116  0.957610  0.016238\n",
      "5 -1.023956 -0.991103  1.137911\n",
      "6  0.793807  0.261012  0.587224\n",
      "\n",
      "\n",
      "          0         1         2\n",
      "4  1.733116  0.957610  0.016238\n",
      "5 -1.023956 -0.991103  1.137911\n",
      "6  0.793807  0.261012  0.587224\n",
      "\n",
      "\n",
      "          0         1         2\n",
      "2  1.335718       NaN  0.422142\n",
      "3 -1.774236       NaN  1.076331\n",
      "4  1.733116  0.957610  0.016238\n",
      "5 -1.023956 -0.991103  1.137911\n",
      "6  0.793807  0.261012  0.587224\n"
     ]
    }
   ],
   "source": [
    "df = pd.DataFrame(np.random.randn(7, 3))\n",
    "df.iloc[:4, 1] = NA\n",
    "df.iloc[:2, 2] = NA\n",
    "print(df)\n",
    "print('\\n')\n",
    "print(df.dropna())\n",
    "print('\\n')\n",
    "print(df.dropna(thresh=2))"
   ]
  },
  {
   "cell_type": "code",
   "execution_count": 17,
   "metadata": {},
   "outputs": [
    {
     "name": "stdout",
     "output_type": "stream",
     "text": [
      "          0         1         2\n",
      "0 -2.028763  0.000000  0.000000\n",
      "1 -1.519579  0.000000  0.000000\n",
      "2  1.335718  0.000000  0.422142\n",
      "3 -1.774236  0.000000  1.076331\n",
      "4  1.733116  0.957610  0.016238\n",
      "5 -1.023956 -0.991103  1.137911\n",
      "6  0.793807  0.261012  0.587224\n",
      "\n",
      "\n",
      "          0         1         2\n",
      "0 -2.028763  0.500000  0.000000\n",
      "1 -1.519579  0.500000  0.000000\n",
      "2  1.335718  0.500000  0.422142\n",
      "3 -1.774236  0.500000  1.076331\n",
      "4  1.733116  0.957610  0.016238\n",
      "5 -1.023956 -0.991103  1.137911\n",
      "6  0.793807  0.261012  0.587224\n",
      "\n",
      "\n",
      "          0         1         2\n",
      "0 -2.028763  0.000000  0.000000\n",
      "1 -1.519579  0.000000  0.000000\n",
      "2  1.335718  0.000000  0.422142\n",
      "3 -1.774236  0.000000  1.076331\n",
      "4  1.733116  0.957610  0.016238\n",
      "5 -1.023956 -0.991103  1.137911\n",
      "6  0.793807  0.261012  0.587224\n"
     ]
    }
   ],
   "source": [
    "# Filling In Missing Data\n",
    "\n",
    "print(df.fillna(0))\n",
    "print('\\n')\n",
    "print(df.fillna({1: 0.5, 2: 0}))\n",
    "print('\\n')\n",
    "\n",
    "_ = df.fillna(0, inplace=True)\n",
    "\n",
    "print(df)"
   ]
  },
  {
   "cell_type": "code",
   "execution_count": 23,
   "metadata": {},
   "outputs": [
    {
     "name": "stdout",
     "output_type": "stream",
     "text": [
      "          0         1         2\n",
      "0 -0.567748  0.384288  0.453660\n",
      "1  0.232388 -0.070936  0.407820\n",
      "2  0.622049       NaN  1.659861\n",
      "3  1.029840       NaN -0.219562\n",
      "4  0.012250       NaN       NaN\n",
      "5  0.053815       NaN       NaN\n",
      "\n",
      "\n",
      "          0         1         2\n",
      "0 -0.567748  0.384288  0.453660\n",
      "1  0.232388 -0.070936  0.407820\n",
      "2  0.622049 -0.070936  1.659861\n",
      "3  1.029840 -0.070936 -0.219562\n",
      "4  0.012250 -0.070936 -0.219562\n",
      "5  0.053815 -0.070936 -0.219562\n",
      "\n",
      "\n",
      "          0         1         2\n",
      "0 -0.567748  0.384288  0.453660\n",
      "1  0.232388 -0.070936  0.407820\n",
      "2  0.622049 -0.070936  1.659861\n",
      "3  1.029840 -0.070936 -0.219562\n",
      "4  0.012250       NaN -0.219562\n",
      "5  0.053815       NaN -0.219562\n"
     ]
    }
   ],
   "source": [
    "df = pd.DataFrame(np.random.randn(6, 3))\n",
    "df.iloc[2:, 1] = NA\n",
    "df.iloc[4:, 2] = NA\n",
    "print(df)\n",
    "print('\\n')\n",
    "print(df.ffill())\n",
    "print('\\n')\n",
    "print(df.ffill(limit=2))\n"
   ]
  },
  {
   "cell_type": "code",
   "execution_count": 24,
   "metadata": {},
   "outputs": [
    {
     "name": "stdout",
     "output_type": "stream",
     "text": [
      "0    1.000000\n",
      "1    3.833333\n",
      "2    3.500000\n",
      "3    3.833333\n",
      "4    7.000000\n",
      "dtype: float64\n"
     ]
    }
   ],
   "source": [
    "data = pd.Series([1., NA, 3.5, NA, 7])\n",
    "print(data.fillna(data.mean()))"
   ]
  },
  {
   "cell_type": "markdown",
   "metadata": {},
   "source": [
    "7.2 Data Transformation"
   ]
  },
  {
   "cell_type": "code",
   "execution_count": 27,
   "metadata": {},
   "outputs": [
    {
     "name": "stdout",
     "output_type": "stream",
     "text": [
      "    k1  k2\n",
      "0  one   1\n",
      "1  two   1\n",
      "2  one   2\n",
      "3  two   3\n",
      "4  one   3\n",
      "5  two   4\n",
      "6  two   4\n",
      "\n",
      "\n",
      "0    False\n",
      "1    False\n",
      "2    False\n",
      "3    False\n",
      "4    False\n",
      "5    False\n",
      "6     True\n",
      "dtype: bool\n",
      "\n",
      "\n",
      "    k1  k2\n",
      "0  one   1\n",
      "1  two   1\n",
      "2  one   2\n",
      "3  two   3\n",
      "4  one   3\n",
      "5  two   4\n"
     ]
    }
   ],
   "source": [
    "# Removing Duplicates\n",
    "\n",
    "data = pd.DataFrame({'k1': ['one', 'two'] * 3 + ['two'], 'k2': [1 , 1, 2, 3, 3, 4, 4]})\n",
    "print(data)\n",
    "print('\\n')\n",
    "print(data.duplicated())\n",
    "print('\\n')\n",
    "print(data.drop_duplicates())"
   ]
  },
  {
   "cell_type": "code",
   "execution_count": 29,
   "metadata": {},
   "outputs": [
    {
     "name": "stdout",
     "output_type": "stream",
     "text": [
      "    k1  k2  v1\n",
      "0  one   1   0\n",
      "1  two   1   1\n",
      "\n",
      "\n",
      "    k1  k2  v1\n",
      "0  one   1   0\n",
      "1  two   1   1\n",
      "2  one   2   2\n",
      "3  two   3   3\n",
      "4  one   3   4\n",
      "6  two   4   6\n"
     ]
    }
   ],
   "source": [
    "data['v1'] = range(7)\n",
    "print(data.drop_duplicates(['k1']))\n",
    "print('\\n')\n",
    "print(data.drop_duplicates(['k1', 'k2'], keep='last'))"
   ]
  },
  {
   "cell_type": "code",
   "execution_count": 30,
   "metadata": {},
   "outputs": [
    {
     "name": "stdout",
     "output_type": "stream",
     "text": [
      "          food  ounces\n",
      "0        bacon     4.0\n",
      "1  pulled pork     3.0\n",
      "2        bacon    12.0\n",
      "3     pastrami     6.0\n",
      "4  corned beef     7.5\n",
      "5        bacon     8.0\n",
      "6     pastrami     3.0\n",
      "7    honey ham     5.0\n",
      "8     nova lox     6.0\n"
     ]
    }
   ],
   "source": [
    "# Transforming Data Using a Function or Mapping\n",
    "\n",
    "data = pd.DataFrame({\"food\": [\"bacon\", \"pulled pork\", \"bacon\",\n",
    "                              \"pastrami\", \"corned beef\", \"bacon\",\n",
    "                              \"pastrami\", \"honey ham\", \"nova lox\"],\n",
    "                     \"ounces\": [4, 3, 12, 6, 7.5, 8, 3, 5, 6]})\n",
    "\n",
    "print(data)"
   ]
  },
  {
   "cell_type": "code",
   "execution_count": 33,
   "metadata": {},
   "outputs": [
    {
     "name": "stdout",
     "output_type": "stream",
     "text": [
      "0          bacon\n",
      "1    pulled pork\n",
      "2          bacon\n",
      "3       pastrami\n",
      "4    corned beef\n",
      "5          bacon\n",
      "6       pastrami\n",
      "7      honey ham\n",
      "8       nova lox\n",
      "Name: food, dtype: object\n",
      "\n",
      "\n",
      "          food  ounces  animal\n",
      "0        bacon     4.0     pig\n",
      "1  pulled pork     3.0     pig\n",
      "2        bacon    12.0     pig\n",
      "3     pastrami     6.0     cow\n",
      "4  corned beef     7.5     cow\n",
      "5        bacon     8.0     pig\n",
      "6     pastrami     3.0     cow\n",
      "7    honey ham     5.0     pig\n",
      "8     nova lox     6.0  salmon\n",
      "\n",
      "\n",
      "0       pig\n",
      "1       pig\n",
      "2       pig\n",
      "3       cow\n",
      "4       cow\n",
      "5       pig\n",
      "6       cow\n",
      "7       pig\n",
      "8    salmon\n",
      "Name: food, dtype: object\n"
     ]
    }
   ],
   "source": [
    "meat_to_animal = {\n",
    "  \"bacon\": \"pig\",\n",
    "  \"pulled pork\": \"pig\",\n",
    "  \"pastrami\": \"cow\",\n",
    "  \"corned beef\": \"cow\",\n",
    "  \"honey ham\": \"pig\",\n",
    "  \"nova lox\": \"salmon\"\n",
    "}\n",
    "\n",
    "lowercased = data['food'].str.lower()\n",
    "print(lowercased)\n",
    "\n",
    "data['animal'] = lowercased.map(meat_to_animal)\n",
    "print('\\n')\n",
    "print(data)\n",
    "\n",
    "print('\\n')\n",
    "print(data['food'].map(lambda x: meat_to_animal[x.lower()]))"
   ]
  },
  {
   "cell_type": "code",
   "execution_count": 39,
   "metadata": {},
   "outputs": [
    {
     "name": "stdout",
     "output_type": "stream",
     "text": [
      "0       1.0\n",
      "1    -999.0\n",
      "2       2.0\n",
      "3    -999.0\n",
      "4   -1000.0\n",
      "5       3.0\n",
      "dtype: float64\n",
      "\n",
      "\n",
      "0       1.0\n",
      "1       NaN\n",
      "2       2.0\n",
      "3       NaN\n",
      "4   -1000.0\n",
      "5       3.0\n",
      "dtype: float64\n",
      "\n",
      "\n",
      "0    1.0\n",
      "1    NaN\n",
      "2    2.0\n",
      "3    NaN\n",
      "4    0.0\n",
      "5    3.0\n",
      "dtype: float64\n",
      "\n",
      "\n",
      "0    1.0\n",
      "1    NaN\n",
      "2    2.0\n",
      "3    NaN\n",
      "4    0.0\n",
      "5    3.0\n",
      "dtype: float64\n"
     ]
    }
   ],
   "source": [
    "# Replacing Values\n",
    "\n",
    "data = pd.Series([1., -999., 2., -999., -1000., 3.])\n",
    "print(data)\n",
    "\n",
    "print('\\n')\n",
    "print(data.replace(-999, np.nan))\n",
    "\n",
    "print('\\n')\n",
    "print(data.replace([-999, -1000], [np.nan, 0]))\n",
    "\n",
    "print('\\n')\n",
    "print(data.replace({-999: np.nan, -1000: 0}))"
   ]
  },
  {
   "cell_type": "code",
   "execution_count": 44,
   "metadata": {},
   "outputs": [
    {
     "name": "stdout",
     "output_type": "stream",
     "text": [
      "Index(['OHIO', 'COLO', 'NEW '], dtype='object')\n",
      "\n",
      "\n",
      "      one  two  three  four\n",
      "OHIO    0    1      2     3\n",
      "COLO    4    5      6     7\n",
      "NEW     8    9     10    11\n",
      "\n",
      "\n",
      "      ONE  TWO  THREE  FOUR\n",
      "Ohio    0    1      2     3\n",
      "Colo    4    5      6     7\n",
      "New     8    9     10    11\n",
      "\n",
      "\n",
      "         one  two  peekaboo  four\n",
      "INDIANA    0    1         2     3\n",
      "COLO       4    5         6     7\n",
      "NEW        8    9        10    11\n",
      "\n",
      "\n",
      "         one  two  three  four\n",
      "INDIANA    0    1      2     3\n",
      "COLO       4    5      6     7\n",
      "NEW        8    9     10    11\n"
     ]
    }
   ],
   "source": [
    "# Renaming Axis Indexes\n",
    "\n",
    "data = pd.DataFrame(np.arange(12).reshape((3, 4)),\n",
    "                    index=[\"Ohio\", \"Colorado\", \"New York\"],\n",
    "                    columns=[\"one\", \"two\", \"three\", \"four\"])\n",
    "\n",
    "transform = lambda x: x[:4].upper()\n",
    "\n",
    "print(data.index.map(transform))\n",
    "\n",
    "data.index = data.index.map(transform)\n",
    "print('\\n')\n",
    "print(data)\n",
    "\n",
    "print('\\n')\n",
    "print(data.rename(index=str.title, columns=str.upper))\n",
    "\n",
    "print('\\n')\n",
    "print(data.rename(index={'OHIO': 'INDIANA'},\n",
    "                  columns={'three': \"peekaboo\"}))\n",
    "\n",
    "print('\\n')\n",
    "data.rename(index={'OHIO': 'INDIANA'}, inplace=True)\n",
    "print(data)\n"
   ]
  },
  {
   "cell_type": "code",
   "execution_count": 49,
   "metadata": {},
   "outputs": [
    {
     "name": "stdout",
     "output_type": "stream",
     "text": [
      "[(18, 25], (18, 25], (18, 25], (25, 35], (18, 25], ..., (25, 35], (60, 100], (35, 60], (35, 60], (25, 35]]\n",
      "Length: 12\n",
      "Categories (4, interval[int64, right]): [(18, 25] < (25, 35] < (35, 60] < (60, 100]]\n",
      "\n",
      "\n",
      "[0 0 0 1 0 0 2 1 3 2 2 1]\n",
      "\n",
      "\n",
      "IntervalIndex([(18, 25], (25, 35], (35, 60], (60, 100]], dtype='interval[int64, right]')\n",
      "\n",
      "\n",
      "(18, 25]     5\n",
      "(25, 35]     3\n",
      "(35, 60]     3\n",
      "(60, 100]    1\n",
      "Name: count, dtype: int64\n"
     ]
    }
   ],
   "source": [
    "# Discretization and Binning\n",
    "\n",
    "ages = [20, 22, 25, 27, 21, 23, 37, 31, 61, 45, 41, 32]\n",
    "\n",
    "bins = [18, 25, 35, 60, 100]\n",
    "\n",
    "cats = pd.cut(ages, bins)\n",
    "\n",
    "print(cats)\n",
    "\n",
    "print('\\n')\n",
    "print(cats.codes)\n",
    "\n",
    "print('\\n')\n",
    "print(cats.categories)\n",
    "\n",
    "print('\\n')\n",
    "print(pd.Series(cats).value_counts())"
   ]
  },
  {
   "cell_type": "code",
   "execution_count": 51,
   "metadata": {},
   "outputs": [
    {
     "name": "stdout",
     "output_type": "stream",
     "text": [
      "[[18, 26), [18, 26), [18, 26), [26, 36), [18, 26), ..., [26, 36), [61, 100), [36, 61), [36, 61), [26, 36)]\n",
      "Length: 12\n",
      "Categories (4, interval[int64, left]): [[18, 26) < [26, 36) < [36, 61) < [61, 100)]\n",
      "\n",
      "\n",
      "['Youth', 'Youth', 'Youth', 'YoungAdult', 'Youth', ..., 'YoungAdult', 'Senior', 'MiddleAged', 'MiddleAged', 'YoungAdult']\n",
      "Length: 12\n",
      "Categories (4, object): ['Youth' < 'YoungAdult' < 'MiddleAged' < 'Senior']\n"
     ]
    }
   ],
   "source": [
    "print(pd.cut(ages, [18, 26, 36, 61, 100], right=False))\n",
    "\n",
    "group_names = ['Youth', 'YoungAdult', 'MiddleAged', 'Senior']\n",
    "\n",
    "print('\\n')\n",
    "print(pd.cut(ages, bins, labels=group_names))"
   ]
  },
  {
   "cell_type": "code",
   "execution_count": 53,
   "metadata": {},
   "outputs": [
    {
     "name": "stdout",
     "output_type": "stream",
     "text": [
      "[(0.49, 0.73], (0.25, 0.49], (0.011, 0.25], (0.73, 0.97], (0.25, 0.49], ..., (0.73, 0.97], (0.73, 0.97], (0.25, 0.49], (0.011, 0.25], (0.73, 0.97]]\n",
      "Length: 20\n",
      "Categories (4, interval[float64, right]): [(0.011, 0.25] < (0.25, 0.49] < (0.49, 0.73] < (0.73, 0.97]]\n"
     ]
    }
   ],
   "source": [
    "data = np.random.rand(20)\n",
    "\n",
    "print(pd.cut(data, 4, precision=2))"
   ]
  },
  {
   "cell_type": "code",
   "execution_count": 57,
   "metadata": {},
   "outputs": [
    {
     "name": "stdout",
     "output_type": "stream",
     "text": [
      "[(-0.645, 0.014], (-3.671, -0.645], (-3.671, -0.645], (-0.645, 0.014], (-3.671, -0.645], ..., (0.652, 3.071], (-3.671, -0.645], (0.014, 0.652], (0.014, 0.652], (-3.671, -0.645]]\n",
      "Length: 1000\n",
      "Categories (4, interval[float64, right]): [(-3.671, -0.645] < (-0.645, 0.014] < (0.014, 0.652] < (0.652, 3.071]]\n",
      "\n",
      "\n",
      "(-3.671, -0.645]    250\n",
      "(-0.645, 0.014]     250\n",
      "(0.014, 0.652]      250\n",
      "(0.652, 3.071]      250\n",
      "Name: count, dtype: int64\n",
      "\n",
      "\n",
      "[(-1.191, 0.014], (-3.671, -1.191], (-3.671, -1.191], (-1.191, 0.014], (-1.191, 0.014], ..., (1.296, 3.071], (-1.191, 0.014], (0.014, 1.296], (0.014, 1.296], (-1.191, 0.014]]\n",
      "Length: 1000\n",
      "Categories (4, interval[float64, right]): [(-3.671, -1.191] < (-1.191, 0.014] < (0.014, 1.296] < (1.296, 3.071]]\n"
     ]
    }
   ],
   "source": [
    "data = np.random.randn(1000)\n",
    "\n",
    "cats = pd.qcut(data, 4)\n",
    "\n",
    "print(cats)\n",
    "\n",
    "print('\\n')\n",
    "print(pd.Series(cats).value_counts())\n",
    "\n",
    "print('\\n')\n",
    "print(pd.qcut(data, [0, 0.1, 0.5, 0.9, 1.]))\n"
   ]
  },
  {
   "cell_type": "code",
   "execution_count": 63,
   "metadata": {},
   "outputs": [
    {
     "name": "stdout",
     "output_type": "stream",
     "text": [
      "                 0            1            2            3\n",
      "count  1000.000000  1000.000000  1000.000000  1000.000000\n",
      "mean     -0.033010     0.016672     0.012142     0.022012\n",
      "std       0.990666     1.012490     0.996610     1.005842\n",
      "min      -3.263810    -3.843500    -3.065117    -3.010715\n",
      "25%      -0.728516    -0.690827    -0.630444    -0.683149\n",
      "50%      -0.015236     0.008915     0.023953     0.015071\n",
      "75%       0.601612     0.658319     0.694385     0.698724\n",
      "max       3.083048     3.251246     3.152629     3.988036\n",
      "\n",
      "\n",
      "215    3.027740\n",
      "447   -3.065117\n",
      "809    3.152629\n",
      "975    3.041676\n",
      "Name: 2, dtype: float64\n",
      "\n",
      "\n",
      "            0         1         2         3\n",
      "19   3.083048  0.376179 -0.684811  1.322135\n",
      "24  -3.255191 -0.954380 -0.198117  0.743064\n",
      "34   1.133686  3.251246 -0.082881  1.252398\n",
      "42  -0.669542  0.464018 -0.427926  3.134081\n",
      "86   2.326094 -3.843500 -0.074533  0.857413\n",
      "215  0.034498 -0.229680  3.027740  0.353640\n",
      "428 -0.179374 -1.436013 -1.125471  3.988036\n",
      "447 -0.069111 -1.328282 -3.065117 -0.203912\n",
      "491 -0.073561  3.006502 -0.341308  0.502057\n",
      "675  0.357125 -0.586529  0.316720 -3.010715\n",
      "724 -3.263810  0.622488  0.070674 -1.168718\n",
      "747 -3.067712 -0.280419 -0.993794 -0.639890\n",
      "809 -1.163674 -0.477941  3.152629 -1.107412\n",
      "841 -0.531732  3.082196  0.333974 -0.135744\n",
      "903 -3.253082 -0.677698 -2.033353 -0.156287\n",
      "975  0.451566  1.468644  3.041676 -1.246638\n"
     ]
    }
   ],
   "source": [
    "# Detecting and Filtering Outliers\n",
    "\n",
    "data = pd.DataFrame(np.random.randn(1000, 4))\n",
    "print(data.describe())\n",
    "\n",
    "col = data[2]\n",
    "print('\\n')\n",
    "print(col[np.abs(col) > 3])\n",
    "\n",
    "print('\\n')\n",
    "print(data[(np.abs(data) > 3).any(axis=1)])\n"
   ]
  },
  {
   "cell_type": "code",
   "execution_count": 65,
   "metadata": {},
   "outputs": [
    {
     "name": "stdout",
     "output_type": "stream",
     "text": [
      "                 0            1            2            3\n",
      "count  1000.000000  1000.000000  1000.000000  1000.000000\n",
      "mean     -0.032253     0.017175     0.011985     0.020900\n",
      "std       0.987783     1.008578     0.995731     1.001982\n",
      "min      -3.000000    -3.000000    -3.000000    -3.000000\n",
      "25%      -0.728516    -0.690827    -0.630444    -0.683149\n",
      "50%      -0.015236     0.008915     0.023953     0.015071\n",
      "75%       0.601612     0.658319     0.694385     0.698724\n",
      "max       3.000000     3.000000     3.000000     3.000000\n",
      "\n",
      "\n",
      "     0    1    2    3\n",
      "0  1.0  1.0 -1.0  1.0\n",
      "1  1.0  1.0 -1.0 -1.0\n",
      "2  1.0 -1.0  1.0 -1.0\n",
      "3  1.0  1.0 -1.0  1.0\n",
      "4  1.0  1.0 -1.0  1.0\n"
     ]
    }
   ],
   "source": [
    "data[np.abs(data) > 3] = np.sign(data) * 3\n",
    "print(data.describe())\n",
    "\n",
    "print('\\n')\n",
    "print(np.sign(data).head())"
   ]
  },
  {
   "cell_type": "code",
   "execution_count": 69,
   "metadata": {},
   "outputs": [
    {
     "name": "stdout",
     "output_type": "stream",
     "text": [
      "[0 3 2 1 4]\n",
      "\n",
      "\n",
      "    0   1   2   3\n",
      "0   0   1   2   3\n",
      "1   4   5   6   7\n",
      "2   8   9  10  11\n",
      "3  12  13  14  15\n",
      "4  16  17  18  19\n",
      "\n",
      "\n",
      "    0   1   2   3\n",
      "0   0   1   2   3\n",
      "3  12  13  14  15\n",
      "2   8   9  10  11\n",
      "1   4   5   6   7\n",
      "4  16  17  18  19\n",
      "\n",
      "\n",
      "    0   1   2   3\n",
      "3  12  13  14  15\n",
      "1   4   5   6   7\n",
      "0   0   1   2   3\n"
     ]
    }
   ],
   "source": [
    "# Permutation and Random Sampling\n",
    "\n",
    "df = pd.DataFrame(np.arange(5 * 4).reshape((5, 4)))\n",
    "\n",
    "sampler = np.random.permutation(5)\n",
    "\n",
    "print(sampler)\n",
    "\n",
    "print('\\n')\n",
    "print(df)\n",
    "\n",
    "print('\\n')\n",
    "print(df.take(sampler))\n",
    "\n",
    "print('\\n')\n",
    "print(df.sample(n=3))"
   ]
  },
  {
   "cell_type": "code",
   "execution_count": 70,
   "metadata": {},
   "outputs": [
    {
     "name": "stdout",
     "output_type": "stream",
     "text": [
      "2   -1\n",
      "1    7\n",
      "4    4\n",
      "4    4\n",
      "2   -1\n",
      "2   -1\n",
      "4    4\n",
      "1    7\n",
      "1    7\n",
      "1    7\n",
      "dtype: int64\n"
     ]
    }
   ],
   "source": [
    "choices = pd.Series([5, 7, -1, 6, 4])\n",
    "draws = choices.sample(n=10, replace=True)\n",
    "\n",
    "print(draws)"
   ]
  },
  {
   "cell_type": "code",
   "execution_count": 73,
   "metadata": {},
   "outputs": [
    {
     "name": "stdout",
     "output_type": "stream",
     "text": [
      "       a      b      c\n",
      "0  False   True  False\n",
      "1  False   True  False\n",
      "2   True  False  False\n",
      "3  False  False   True\n",
      "4   True  False  False\n",
      "5  False   True  False\n",
      "\n",
      "\n",
      "   data1  key_a  key_b  key_c\n",
      "0      0  False   True  False\n",
      "1      1  False   True  False\n",
      "2      2   True  False  False\n",
      "3      3  False  False   True\n",
      "4      4   True  False  False\n",
      "5      5  False   True  False\n"
     ]
    }
   ],
   "source": [
    "# Computing Indicator/Dummy Variables\n",
    "\n",
    "df = pd.DataFrame({\"key\": [\"b\", \"b\", \"a\", \"c\", \"a\", \"b\"],\n",
    "                   \"data1\": range(6)})\n",
    "\n",
    "print(pd.get_dummies(df['key']))\n",
    "\n",
    "dummies = pd.get_dummies(df['key'], prefix='key')\n",
    "df_with_dummy = df[['data1']].join(dummies)\n",
    "\n",
    "print('\\n')\n",
    "print(df_with_dummy)"
   ]
  },
  {
   "cell_type": "code",
   "execution_count": 77,
   "metadata": {},
   "outputs": [
    {
     "name": "stdout",
     "output_type": "stream",
     "text": [
      "   movie_id                               title                        genres\n",
      "0         1                    Toy Story (1995)   Animation|Children's|Comedy\n",
      "1         2                      Jumanji (1995)  Adventure|Children's|Fantasy\n",
      "2         3             Grumpier Old Men (1995)                Comedy|Romance\n",
      "3         4            Waiting to Exhale (1995)                  Comedy|Drama\n",
      "4         5  Father of the Bride Part II (1995)                        Comedy\n",
      "5         6                         Heat (1995)         Action|Crime|Thriller\n",
      "6         7                      Sabrina (1995)                Comedy|Romance\n",
      "7         8                 Tom and Huck (1995)          Adventure|Children's\n",
      "8         9                 Sudden Death (1995)                        Action\n",
      "9        10                    GoldenEye (1995)     Action|Adventure|Thriller\n"
     ]
    }
   ],
   "source": [
    "mnames = ['movie_id', 'title', 'genres']\n",
    "movies = pd.read_table('data/movielens/movies.dat', sep='::', header=None, names=mnames, engine='python')\n",
    "\n",
    "print(movies[:10])"
   ]
  },
  {
   "cell_type": "code",
   "execution_count": 81,
   "metadata": {},
   "outputs": [
    {
     "name": "stdout",
     "output_type": "stream",
     "text": [
      "['Animation' \"Children's\" 'Comedy' 'Adventure' 'Fantasy' 'Romance' 'Drama'\n",
      " 'Action' 'Crime' 'Thriller' 'Horror' 'Sci-Fi' 'Documentary' 'War'\n",
      " 'Musical' 'Mystery' 'Film-Noir' 'Western']\n"
     ]
    }
   ],
   "source": [
    "all_genres = []\n",
    "\n",
    "for x in movies.genres:\n",
    "    all_genres.extend(x.split('|'))\n",
    "\n",
    "genres = pd.unique(pd.Series(all_genres))\n",
    "\n",
    "print(genres)"
   ]
  },
  {
   "cell_type": "code",
   "execution_count": 84,
   "metadata": {},
   "outputs": [
    {
     "name": "stdout",
     "output_type": "stream",
     "text": [
      "['Animation', \"Children's\", 'Comedy']\n",
      "\n",
      "\n",
      "[0 1 2]\n",
      "\n",
      "\n",
      "movie_id                                       1\n",
      "title                           Toy Story (1995)\n",
      "genres               Animation|Children's|Comedy\n",
      "Genre_Animation                              1.0\n",
      "Genre_Children's                             1.0\n",
      "Genre_Comedy                                 1.0\n",
      "Genre_Adventure                              0.0\n",
      "Genre_Fantasy                                0.0\n",
      "Genre_Romance                                0.0\n",
      "Genre_Drama                                  0.0\n",
      "Genre_Action                                 0.0\n",
      "Genre_Crime                                  0.0\n",
      "Genre_Thriller                               0.0\n",
      "Genre_Horror                                 0.0\n",
      "Genre_Sci-Fi                                 0.0\n",
      "Genre_Documentary                            0.0\n",
      "Genre_War                                    0.0\n",
      "Genre_Musical                                0.0\n",
      "Genre_Mystery                                0.0\n",
      "Genre_Film-Noir                              0.0\n",
      "Genre_Western                                0.0\n",
      "Name: 0, dtype: object\n"
     ]
    }
   ],
   "source": [
    "zero_matrix = np.zeros((len(movies), len(genres)))\n",
    "dummies = pd.DataFrame(zero_matrix, columns=genres)\n",
    "\n",
    "gen = movies.genres[0]\n",
    "print(gen.split('|'))\n",
    "\n",
    "print('\\n')\n",
    "print(dummies.columns.get_indexer(gen.split('|')))\n",
    "\n",
    "for i, gen in enumerate(movies.genres):\n",
    "    indices = dummies.columns.get_indexer(gen.split('|'))\n",
    "    dummies.iloc[i, indices] = 1\n",
    "\n",
    "movies_windic = movies.join(dummies.add_prefix('Genre_'))\n",
    "print('\\n')\n",
    "print(movies_windic.iloc[0])"
   ]
  },
  {
   "cell_type": "code",
   "execution_count": 87,
   "metadata": {},
   "outputs": [
    {
     "name": "stdout",
     "output_type": "stream",
     "text": [
      "[0.92961609 0.31637555 0.18391881 0.20456028 0.56772503 0.5955447\n",
      " 0.96451452 0.6531771  0.74890664 0.65356987]\n",
      "\n",
      "\n",
      "   (0.0, 0.2]  (0.2, 0.4]  (0.4, 0.6]  (0.6, 0.8]  (0.8, 1.0]\n",
      "0       False       False       False       False        True\n",
      "1       False        True       False       False       False\n",
      "2        True       False       False       False       False\n",
      "3       False        True       False       False       False\n",
      "4       False       False        True       False       False\n",
      "5       False       False        True       False       False\n",
      "6       False       False       False       False        True\n",
      "7       False       False       False        True       False\n",
      "8       False       False       False        True       False\n",
      "9       False       False       False        True       False\n"
     ]
    }
   ],
   "source": [
    "np.random.seed(12345)\n",
    "\n",
    "values = np.random.rand(10)\n",
    "print(values)\n",
    "\n",
    "bins = [0, 0.2, 0.4, 0.6, 0.8, 1]\n",
    "\n",
    "print('\\n')\n",
    "print(pd.get_dummies(pd.cut(values, bins)))"
   ]
  }
 ],
 "metadata": {
  "kernelspec": {
   "display_name": ".venv",
   "language": "python",
   "name": "python3"
  },
  "language_info": {
   "codemirror_mode": {
    "name": "ipython",
    "version": 3
   },
   "file_extension": ".py",
   "mimetype": "text/x-python",
   "name": "python",
   "nbconvert_exporter": "python",
   "pygments_lexer": "ipython3",
   "version": "3.13.3"
  }
 },
 "nbformat": 4,
 "nbformat_minor": 2
}
