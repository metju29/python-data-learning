{
 "cells": [
  {
   "cell_type": "markdown",
   "metadata": {},
   "source": [
    "7.1 Handling Missing Data"
   ]
  },
  {
   "cell_type": "code",
   "execution_count": 4,
   "metadata": {},
   "outputs": [
    {
     "name": "stdout",
     "output_type": "stream",
     "text": [
      "0     aardvark\n",
      "1    artichoke\n",
      "2          NaN\n",
      "3      avocado\n",
      "dtype: object\n",
      "\n",
      "\n",
      "0    False\n",
      "1    False\n",
      "2     True\n",
      "3    False\n",
      "dtype: bool\n",
      "\n",
      "\n",
      "0     True\n",
      "1    False\n",
      "2     True\n",
      "3    False\n",
      "dtype: bool\n"
     ]
    }
   ],
   "source": [
    "import pandas as pd\n",
    "import numpy as np\n",
    "\n",
    "\n",
    "string_data = pd.Series(['aardvark', 'artichoke', np.nan, 'avocado'])\n",
    "print(string_data)\n",
    "print('\\n')\n",
    "print(string_data.isnull())\n",
    "\n",
    "string_data[0] = None\n",
    "print('\\n')\n",
    "print(string_data.isnull())"
   ]
  },
  {
   "cell_type": "code",
   "execution_count": 6,
   "metadata": {},
   "outputs": [
    {
     "name": "stdout",
     "output_type": "stream",
     "text": [
      "0    1.0\n",
      "2    3.5\n",
      "4    7.0\n",
      "dtype: float64\n",
      "\n",
      "\n",
      "0    1.0\n",
      "2    3.5\n",
      "4    7.0\n",
      "dtype: float64\n"
     ]
    }
   ],
   "source": [
    "# Filtering Out Missing Data\n",
    "\n",
    "from numpy import nan as NA\n",
    "\n",
    "\n",
    "data = pd.Series([1, NA, 3.5, NA, 7])\n",
    "print(data.dropna())\n",
    "print('\\n')\n",
    "print(data[data.notnull()])\n",
    "\n"
   ]
  },
  {
   "cell_type": "code",
   "execution_count": 9,
   "metadata": {},
   "outputs": [
    {
     "name": "stdout",
     "output_type": "stream",
     "text": [
      "     0    1    2\n",
      "0  1.0  6.5  3.0\n",
      "1  1.0  NaN  NaN\n",
      "2  NaN  NaN  NaN\n",
      "3  NaN  6.5  3.0\n",
      "\n",
      "\n",
      "     0    1    2\n",
      "0  1.0  6.5  3.0\n",
      "\n",
      "\n",
      "     0    1    2\n",
      "0  1.0  6.5  3.0\n",
      "1  1.0  NaN  NaN\n",
      "3  NaN  6.5  3.0\n"
     ]
    }
   ],
   "source": [
    "data = pd.DataFrame([[1., 6.5, 3.], [1., NA, NA], [NA, NA, NA], [NA, 6.5, 3.]])\n",
    "cleaned = data.dropna()\n",
    "print(data)\n",
    "print('\\n')\n",
    "print(cleaned)\n",
    "print('\\n')\n",
    "print(data.dropna(how='all'))"
   ]
  },
  {
   "cell_type": "code",
   "execution_count": 11,
   "metadata": {},
   "outputs": [
    {
     "name": "stdout",
     "output_type": "stream",
     "text": [
      "\n",
      "\n",
      "     0    1    2   4\n",
      "0  1.0  6.5  3.0 NaN\n",
      "1  1.0  NaN  NaN NaN\n",
      "2  NaN  NaN  NaN NaN\n",
      "3  NaN  6.5  3.0 NaN\n",
      "\n",
      "\n",
      "     0    1    2\n",
      "0  1.0  6.5  3.0\n",
      "1  1.0  NaN  NaN\n",
      "2  NaN  NaN  NaN\n",
      "3  NaN  6.5  3.0\n"
     ]
    }
   ],
   "source": [
    "data[4] = NA\n",
    "print('\\n')\n",
    "print(data)\n",
    "print('\\n')\n",
    "print(data.dropna(axis=1, how='all'))"
   ]
  },
  {
   "cell_type": "code",
   "execution_count": 14,
   "metadata": {},
   "outputs": [
    {
     "name": "stdout",
     "output_type": "stream",
     "text": [
      "          0         1         2\n",
      "0 -2.028763       NaN       NaN\n",
      "1 -1.519579       NaN       NaN\n",
      "2  1.335718       NaN  0.422142\n",
      "3 -1.774236       NaN  1.076331\n",
      "4  1.733116  0.957610  0.016238\n",
      "5 -1.023956 -0.991103  1.137911\n",
      "6  0.793807  0.261012  0.587224\n",
      "\n",
      "\n",
      "          0         1         2\n",
      "4  1.733116  0.957610  0.016238\n",
      "5 -1.023956 -0.991103  1.137911\n",
      "6  0.793807  0.261012  0.587224\n",
      "\n",
      "\n",
      "          0         1         2\n",
      "2  1.335718       NaN  0.422142\n",
      "3 -1.774236       NaN  1.076331\n",
      "4  1.733116  0.957610  0.016238\n",
      "5 -1.023956 -0.991103  1.137911\n",
      "6  0.793807  0.261012  0.587224\n"
     ]
    }
   ],
   "source": [
    "df = pd.DataFrame(np.random.randn(7, 3))\n",
    "df.iloc[:4, 1] = NA\n",
    "df.iloc[:2, 2] = NA\n",
    "print(df)\n",
    "print('\\n')\n",
    "print(df.dropna())\n",
    "print('\\n')\n",
    "print(df.dropna(thresh=2))"
   ]
  },
  {
   "cell_type": "code",
   "execution_count": 17,
   "metadata": {},
   "outputs": [
    {
     "name": "stdout",
     "output_type": "stream",
     "text": [
      "          0         1         2\n",
      "0 -2.028763  0.000000  0.000000\n",
      "1 -1.519579  0.000000  0.000000\n",
      "2  1.335718  0.000000  0.422142\n",
      "3 -1.774236  0.000000  1.076331\n",
      "4  1.733116  0.957610  0.016238\n",
      "5 -1.023956 -0.991103  1.137911\n",
      "6  0.793807  0.261012  0.587224\n",
      "\n",
      "\n",
      "          0         1         2\n",
      "0 -2.028763  0.500000  0.000000\n",
      "1 -1.519579  0.500000  0.000000\n",
      "2  1.335718  0.500000  0.422142\n",
      "3 -1.774236  0.500000  1.076331\n",
      "4  1.733116  0.957610  0.016238\n",
      "5 -1.023956 -0.991103  1.137911\n",
      "6  0.793807  0.261012  0.587224\n",
      "\n",
      "\n",
      "          0         1         2\n",
      "0 -2.028763  0.000000  0.000000\n",
      "1 -1.519579  0.000000  0.000000\n",
      "2  1.335718  0.000000  0.422142\n",
      "3 -1.774236  0.000000  1.076331\n",
      "4  1.733116  0.957610  0.016238\n",
      "5 -1.023956 -0.991103  1.137911\n",
      "6  0.793807  0.261012  0.587224\n"
     ]
    }
   ],
   "source": [
    "# Filling In Missing Data\n",
    "\n",
    "print(df.fillna(0))\n",
    "print('\\n')\n",
    "print(df.fillna({1: 0.5, 2: 0}))\n",
    "print('\\n')\n",
    "\n",
    "_ = df.fillna(0, inplace=True)\n",
    "\n",
    "print(df)"
   ]
  },
  {
   "cell_type": "code",
   "execution_count": 23,
   "metadata": {},
   "outputs": [
    {
     "name": "stdout",
     "output_type": "stream",
     "text": [
      "          0         1         2\n",
      "0 -0.567748  0.384288  0.453660\n",
      "1  0.232388 -0.070936  0.407820\n",
      "2  0.622049       NaN  1.659861\n",
      "3  1.029840       NaN -0.219562\n",
      "4  0.012250       NaN       NaN\n",
      "5  0.053815       NaN       NaN\n",
      "\n",
      "\n",
      "          0         1         2\n",
      "0 -0.567748  0.384288  0.453660\n",
      "1  0.232388 -0.070936  0.407820\n",
      "2  0.622049 -0.070936  1.659861\n",
      "3  1.029840 -0.070936 -0.219562\n",
      "4  0.012250 -0.070936 -0.219562\n",
      "5  0.053815 -0.070936 -0.219562\n",
      "\n",
      "\n",
      "          0         1         2\n",
      "0 -0.567748  0.384288  0.453660\n",
      "1  0.232388 -0.070936  0.407820\n",
      "2  0.622049 -0.070936  1.659861\n",
      "3  1.029840 -0.070936 -0.219562\n",
      "4  0.012250       NaN -0.219562\n",
      "5  0.053815       NaN -0.219562\n"
     ]
    }
   ],
   "source": [
    "df = pd.DataFrame(np.random.randn(6, 3))\n",
    "df.iloc[2:, 1] = NA\n",
    "df.iloc[4:, 2] = NA\n",
    "print(df)\n",
    "print('\\n')\n",
    "print(df.ffill())\n",
    "print('\\n')\n",
    "print(df.ffill(limit=2))\n"
   ]
  },
  {
   "cell_type": "code",
   "execution_count": 24,
   "metadata": {},
   "outputs": [
    {
     "name": "stdout",
     "output_type": "stream",
     "text": [
      "0    1.000000\n",
      "1    3.833333\n",
      "2    3.500000\n",
      "3    3.833333\n",
      "4    7.000000\n",
      "dtype: float64\n"
     ]
    }
   ],
   "source": [
    "data = pd.Series([1., NA, 3.5, NA, 7])\n",
    "print(data.fillna(data.mean()))"
   ]
  }
 ],
 "metadata": {
  "kernelspec": {
   "display_name": ".venv",
   "language": "python",
   "name": "python3"
  },
  "language_info": {
   "codemirror_mode": {
    "name": "ipython",
    "version": 3
   },
   "file_extension": ".py",
   "mimetype": "text/x-python",
   "name": "python",
   "nbconvert_exporter": "python",
   "pygments_lexer": "ipython3",
   "version": "3.13.3"
  }
 },
 "nbformat": 4,
 "nbformat_minor": 2
}
