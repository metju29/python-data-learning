{
 "cells": [
  {
   "cell_type": "markdown",
   "metadata": {},
   "source": [
    "4.1. The NumPy ndarray: A Multidimensional Array Object"
   ]
  },
  {
   "cell_type": "code",
   "execution_count": 25,
   "metadata": {},
   "outputs": [
    {
     "data": {
      "text/plain": [
       "array([ 0,  1,  2,  3,  4,  5,  6,  7,  8,  9, 10, 11, 12, 13, 14])"
      ]
     },
     "execution_count": 25,
     "metadata": {},
     "output_type": "execute_result"
    }
   ],
   "source": [
    "# Creating ndarrays\n",
    "\n",
    "import numpy as np\n",
    "\n",
    "data1 = [6, 7.5, 8, 0, 1]\n",
    "arr1 = np.array(data1)\n",
    "arr1\n",
    "\n",
    "data2 = [[1, 2, 3, 4], [5, 6, 7, 8]]\n",
    "arr2 = np.array(data2)\n",
    "arr2\n",
    "\n",
    "arr2.ndim\n",
    "arr2.shape\n",
    "\n",
    "arr1.dtype\n",
    "arr2.dtype\n",
    "\n",
    "np.zeros(10)\n",
    "np.zeros((3, 6))\n",
    "np.empty((2, 3, 2))\n",
    "\n",
    "np.arange(15)\n",
    "\n"
   ]
  },
  {
   "cell_type": "code",
   "execution_count": 38,
   "metadata": {},
   "outputs": [
    {
     "data": {
      "text/plain": [
       "array([         0, 1075314688,          0, 1075707904,          0,\n",
       "       1075838976,          0, 1072693248], dtype=uint32)"
      ]
     },
     "execution_count": 38,
     "metadata": {},
     "output_type": "execute_result"
    }
   ],
   "source": [
    "# Data Types for ndarrays\n",
    "\n",
    "arr1 = np.array([1, 2, 3], dtype=np.float64)\n",
    "arr1 = np.array([1, 2, 3], dtype=np.int32)\n",
    "\n",
    "arr1.dtype\n",
    "arr2.dtype\n",
    "\n",
    "arr = np.array([1, 2, 3, 4, 5])\n",
    "arr.dtype\n",
    "\n",
    "float_arr = arr.astype(np.float64)\n",
    "float_arr.dtype\n",
    "\n",
    "arr = np.array([3.7, -1.2, -2.6, 0.5, 12.9, 10.1])\n",
    "arr\n",
    "arr.astype(np.int32)\n",
    "\n",
    "numeric_strings = np.array(['1.25', '-9.6', '42'], dtype=np.bytes_)\n",
    "numeric_strings.astype(float)\n",
    "\n",
    "int_array = np.arange(10)\n",
    "calibers = np.array([.22, .270, .357, .380, .44, .50], dtype=np.float64)\n",
    "\n",
    "int_array.astype(calibers.dtype)\n",
    "\n",
    "empty_uint32 = np.empty(8, dtype=np.uint32)\n",
    "empty_uint32"
   ]
  },
  {
   "cell_type": "code",
   "execution_count": 45,
   "metadata": {},
   "outputs": [
    {
     "data": {
      "text/plain": [
       "array([[False,  True, False],\n",
       "       [ True, False,  True]])"
      ]
     },
     "execution_count": 45,
     "metadata": {},
     "output_type": "execute_result"
    }
   ],
   "source": [
    "# Arithmetic with NumPy Arrays\n",
    "\n",
    "arr = np.array([[1., 2., 3.], [4., 5., 6.]])\n",
    "\n",
    "arr\n",
    "arr * arr\n",
    "arr - arr\n",
    "1 / arr\n",
    "arr ** 0.5\n",
    "\n",
    "arr2 = np.array([[0., 4., 1.], [7., 2., 12.]])\n",
    "arr2\n",
    "\n",
    "arr2 > arr"
   ]
  },
  {
   "cell_type": "code",
   "execution_count": 67,
   "metadata": {},
   "outputs": [
    {
     "data": {
      "text/plain": [
       "array([7, 8, 9])"
      ]
     },
     "execution_count": 67,
     "metadata": {},
     "output_type": "execute_result"
    }
   ],
   "source": [
    "# Basic Indexing\n",
    "\n",
    "arr = np.arange(10)\n",
    "arr\n",
    "\n",
    "arr[5]\n",
    "arr[5:8]\n",
    "\n",
    "arr[5:8] = 12\n",
    "arr\n",
    "\n",
    "arr_slice = arr[5:8]\n",
    "arr_slice\n",
    "\n",
    "arr_slice[1] = 12345\n",
    "arr\n",
    "\n",
    "arr_slice[:] = 64\n",
    "arr\n",
    "\n",
    "arr2d = np.array([[1, 2, 3], [4, 5, 6], [7, 8, 9]])\n",
    "arr2d[2]\n",
    "\n",
    "arr2d[0][2]\n",
    "arr2d[0, 2]\n",
    "\n",
    "arr3d = np.array([[[1, 2, 3], [4, 5, 6]], [[7, 8, 9], [10, 11, 12]]])\n",
    "arr3d\n",
    "\n",
    "arr3d[0]\n",
    "\n",
    "old_values = arr3d[0].copy()\n",
    "arr3d[0] = 42\n",
    "arr3d\n",
    "\n",
    "arr3d[0] = old_values\n",
    "arr3d\n",
    "\n",
    "arr3d[1, 0]\n",
    "\n",
    "x = arr3d[1]\n",
    "x\n",
    "x[0]\n"
   ]
  },
  {
   "cell_type": "code",
   "execution_count": 77,
   "metadata": {},
   "outputs": [
    {
     "data": {
      "text/plain": [
       "array([[1, 0, 0],\n",
       "       [4, 0, 0],\n",
       "       [7, 8, 9]])"
      ]
     },
     "execution_count": 77,
     "metadata": {},
     "output_type": "execute_result"
    }
   ],
   "source": [
    "# Slicing Indexing\n",
    "\n",
    "arr\n",
    "arr[1:6]\n",
    "\n",
    "arr2d\n",
    "arr2d[:2]\n",
    "arr2d[:2, 1:]\n",
    "arr2d[1, :2]\n",
    "arr2d[:2, 2]\n",
    "arr2d[:, :1]\n",
    "\n",
    "arr2d[:2, 1:] = 0\n",
    "arr2d"
   ]
  },
  {
   "cell_type": "code",
   "execution_count": 94,
   "metadata": {},
   "outputs": [
    {
     "data": {
      "text/plain": [
       "array([[7.        , 7.        , 7.        , 7.        ],\n",
       "       [0.        , 1.04186263, 1.09840791, 0.        ],\n",
       "       [7.        , 7.        , 7.        , 7.        ],\n",
       "       [7.        , 7.        , 7.        , 7.        ],\n",
       "       [7.        , 7.        , 7.        , 7.        ],\n",
       "       [0.        , 0.55733711, 0.09326053, 0.30549156],\n",
       "       [0.        , 0.28106588, 0.        , 1.27255999]])"
      ]
     },
     "execution_count": 94,
     "metadata": {},
     "output_type": "execute_result"
    }
   ],
   "source": [
    "# Boolean Indexing\n",
    "\n",
    "names = np.array(['Bob', 'Joe', 'Will', 'Bob', 'Will', 'Joe', 'Joe'])\n",
    "data = np.random.randn(7, 4)\n",
    "\n",
    "names\n",
    "data\n",
    "\n",
    "names == 'Bob'\n",
    "data[names == 'Bob']\n",
    "data[names == 'Bob', 2:]\n",
    "data[names == 'Bob', 3]\n",
    "names != 'Bob'\n",
    "data[~(names == 'Bob')]\n",
    "\n",
    "cond = names == 'Bob'\n",
    "data[~cond]\n",
    "\n",
    "mask = (names == 'Bob') | (names == 'Will')\n",
    "mask\n",
    "\n",
    "data[mask]\n",
    "\n",
    "data[data < 0] = 0\n",
    "data\n",
    "\n",
    "data[names != 'Joe'] = 7\n",
    "data\n",
    "\n"
   ]
  },
  {
   "cell_type": "code",
   "execution_count": 101,
   "metadata": {},
   "outputs": [
    {
     "data": {
      "text/plain": [
       "array([[ 4,  7,  5,  6],\n",
       "       [20, 23, 21, 22],\n",
       "       [28, 31, 29, 30],\n",
       "       [ 8, 11,  9, 10]])"
      ]
     },
     "execution_count": 101,
     "metadata": {},
     "output_type": "execute_result"
    }
   ],
   "source": [
    "# Fancy indexing\n",
    "\n",
    "arr = np.empty((8, 4))\n",
    "\n",
    "for i in range(8):\n",
    "    arr[i] = i\n",
    "\n",
    "arr\n",
    "\n",
    "arr[[4, 3, 0, 6]]\n",
    "arr[[-3, -5, -7]]\n",
    "\n",
    "arr = np.arange(32).reshape((8, 4))\n",
    "arr\n",
    "\n",
    "arr[[1, 5, 7, 2], [0, 3, 1, 2]]\n",
    "\n",
    "arr[[1, 5, 7, 2]][:, [0, 3, 1, 2]]"
   ]
  },
  {
   "cell_type": "code",
   "execution_count": 109,
   "metadata": {},
   "outputs": [
    {
     "data": {
      "text/plain": [
       "array([[[ 0,  4],\n",
       "        [ 1,  5],\n",
       "        [ 2,  6],\n",
       "        [ 3,  7]],\n",
       "\n",
       "       [[ 8, 12],\n",
       "        [ 9, 13],\n",
       "        [10, 14],\n",
       "        [11, 15]]])"
      ]
     },
     "execution_count": 109,
     "metadata": {},
     "output_type": "execute_result"
    }
   ],
   "source": [
    "# Transposing Arrays and Swapping Axes\n",
    "\n",
    "arr = np.arange(15).reshape((3, 5))\n",
    "\n",
    "arr\n",
    "arr.T\n",
    "\n",
    "arr = np.random.randn(6, 3)\n",
    "arr\n",
    "np.dot(arr.T, arr)\n",
    "\n",
    "arr = np.arange(16).reshape((2, 2, 4))\n",
    "arr\n",
    "arr.transpose((1, 0, 2))\n",
    "\n",
    "arr\n",
    "arr.swapaxes(1, 2)"
   ]
  },
  {
   "cell_type": "markdown",
   "metadata": {},
   "source": [
    "4.2 Universal Functions: Fast Element-Wise Array Functions"
   ]
  },
  {
   "cell_type": "code",
   "execution_count": 123,
   "metadata": {},
   "outputs": [
    {
     "name": "stderr",
     "output_type": "stream",
     "text": [
      "/var/folders/qw/xxg7th2n7sn81t2kt_xmf_540000gn/T/ipykernel_3962/915822614.py:26: RuntimeWarning: invalid value encountered in sqrt\n",
      "  np.sqrt(arr)\n",
      "/var/folders/qw/xxg7th2n7sn81t2kt_xmf_540000gn/T/ipykernel_3962/915822614.py:27: RuntimeWarning: invalid value encountered in sqrt\n",
      "  np.sqrt(arr, arr)\n"
     ]
    },
    {
     "data": {
      "text/plain": [
       "array([0.38474724, 0.90730366,        nan, 2.85693174, 2.20915938,\n",
       "       0.94383127,        nan])"
      ]
     },
     "execution_count": 123,
     "metadata": {},
     "output_type": "execute_result"
    }
   ],
   "source": [
    "arr = np.arange(10)\n",
    "arr\n",
    "\n",
    "np.sqrt(arr)\n",
    "\n",
    "np.exp(arr)\n",
    "\n",
    "x = np.random.randn(8)\n",
    "y = np.random.randn(8)\n",
    "\n",
    "x\n",
    "y\n",
    "\n",
    "np.maximum(x, y)\n",
    "\n",
    "arr = np.random.randn(7) * 5\n",
    "\n",
    "arr\n",
    "\n",
    "remainder, whole_part = np.modf(arr)\n",
    "\n",
    "remainder\n",
    "whole_part\n",
    "\n",
    "arr\n",
    "np.sqrt(arr)\n",
    "np.sqrt(arr, arr)\n",
    "\n",
    "arr\n"
   ]
  },
  {
   "cell_type": "markdown",
   "metadata": {},
   "source": [
    "4.3 Array-Oriented Programming with Arrays"
   ]
  },
  {
   "cell_type": "code",
   "execution_count": null,
   "metadata": {},
   "outputs": [
    {
     "data": {
      "text/plain": [
       "array([[-3.06410135, -0.93328412, -0.56662195,  2.        ],\n",
       "       [ 2.        ,  2.        ,  2.        , -0.98781921],\n",
       "       [ 2.        , -0.44866079,  2.        ,  2.        ],\n",
       "       [ 2.        ,  2.        , -0.6707763 , -1.47374488]])"
      ]
     },
     "execution_count": 137,
     "metadata": {},
     "output_type": "execute_result"
    },
    {
     "data": {
      "image/png": "[encoded data removed]",
      "text/plain": [
       "<Figure size 640x480 with 2 Axes>"
      ]
     },
     "metadata": {},
     "output_type": "display_data"
    }
   ],
   "source": [
    "import matplotlib.pyplot as plt\n",
    "\n",
    "points = np.arange(-5, 5, 0.01)\n",
    "\n",
    "xs, ys = np.meshgrid(points, points)\n",
    "ys\n",
    "\n",
    "z = np.sqrt(xs ** 2 + ys ** 2)\n",
    "z\n",
    "\n",
    "plt.imshow(z, cmap=plt.cm.gray)\n",
    "plt.colorbar()\n",
    "plt.title(\"Graph of the function $\\\\sqrt{x^2 + y^2}$ for specific values ​​x and y\")\n",
    "\n",
    "# Expressing Conditional Logic as Array Operations\n",
    "\n",
    "xarr = np.array([1.1, 1.2, 1.3, 1.4, 1.5])\n",
    "yarr = np.array([2.1, 2.2, 2.3, 2.4, 2.5])\n",
    "cond = np.array([True, False, True, True, False])\n",
    "\n",
    "result = [(x if c else y) for x, y, c in zip(xarr, yarr, cond)]\n",
    "result\n",
    "\n",
    "result = np.where(cond, xarr, yarr)\n",
    "result\n",
    "\n",
    "arr = np.random.randn(4, 4)\n",
    "arr\n",
    "arr > 0\n",
    "np.where(arr > 0, 2, -2)\n",
    "\n",
    "np.where(arr > 0, 2, arr)"
   ]
  },
  {
   "cell_type": "code",
   "execution_count": 151,
   "metadata": {},
   "outputs": [
    {
     "data": {
      "text/plain": [
       "array([[  0,   0,   0],\n",
       "       [  3,  12,  60],\n",
       "       [  6,  42, 336]])"
      ]
     },
     "execution_count": 151,
     "metadata": {},
     "output_type": "execute_result"
    }
   ],
   "source": [
    "# Mathematical and Statistical Methods\n",
    "\n",
    "arr = np.random.randn(5, 4)\n",
    "arr\n",
    "\n",
    "arr.mean()\n",
    "np.mean(arr)\n",
    "arr.sum()\n",
    "\n",
    "arr.mean(axis=1)\n",
    "arr.sum(axis=0)\n",
    "\n",
    "arr = np.array([0, 1, 2, 3, 4, 5, 6, 7])\n",
    "arr.cumsum()\n",
    "\n",
    "arr = np.array([[0, 1, 2], [3, 4, 5], [6, 7, 8]])\n",
    "arr\n",
    "\n",
    "arr.cumsum(axis=0)\n",
    "arr.cumprod(axis=1)"
   ]
  },
  {
   "cell_type": "code",
   "execution_count": 168,
   "metadata": {},
   "outputs": [
    {
     "name": "stdout",
     "output_type": "stream",
     "text": [
      "50\n",
      "True\n",
      "False\n"
     ]
    }
   ],
   "source": [
    "# Methods for Boolean Arrays\n",
    "\n",
    "arr = np.random.randn(100)\n",
    "print((arr > 0).sum())\n",
    "\n",
    "bools = np.array([False, False, True, False])\n",
    "print(bools.any())\n",
    "print(bools.all())\n",
    "\n"
   ]
  },
  {
   "cell_type": "code",
   "execution_count": 183,
   "metadata": {},
   "outputs": [
    {
     "name": "stdout",
     "output_type": "stream",
     "text": [
      "[-0.84910297  3.72817669 -0.40281584 -0.10768648 -1.04636721 -0.79018464]\n",
      "\n",
      "\n",
      "[-1.04636721 -0.84910297 -0.79018464 -0.40281584 -0.10768648  3.72817669]\n",
      "\n",
      "\n",
      "[[ 1.26614487  2.01998166  0.06092706]\n",
      " [-0.01943402 -0.55022315 -2.15777249]\n",
      " [-0.67441197 -0.39263346 -1.81983131]\n",
      " [-0.21400893  1.63643822 -1.66666163]\n",
      " [-0.11588149  0.36543219 -0.03865429]]\n",
      "\n",
      "\n",
      "[[ 0.06092706  1.26614487  2.01998166]\n",
      " [-2.15777249 -0.55022315 -0.01943402]\n",
      " [-1.81983131 -0.67441197 -0.39263346]\n",
      " [-1.66666163 -0.21400893  1.63643822]\n",
      " [-0.11588149 -0.03865429  0.36543219]]\n",
      "\n",
      "\n",
      "-1.5309229163190348\n"
     ]
    }
   ],
   "source": [
    "# Sorting\n",
    "\n",
    "arr = np.random.randn(6)\n",
    "print(arr)\n",
    "arr.sort()\n",
    "print(\"\\n\")\n",
    "print(arr)\n",
    "\n",
    "arr = np.random.randn(5, 3)\n",
    "print(\"\\n\")\n",
    "print(arr)\n",
    "arr.sort(1)\n",
    "print(\"\\n\")\n",
    "print(arr)\n",
    "\n",
    "large_arr = np.random.randn(1000)\n",
    "large_arr.sort()\n",
    "print(\"\\n\")\n",
    "print(large_arr[int(0.05 * len(large_arr))])\n",
    "\n",
    "\n",
    "\n",
    "\n"
   ]
  },
  {
   "cell_type": "code",
   "execution_count": 188,
   "metadata": {},
   "outputs": [
    {
     "name": "stdout",
     "output_type": "stream",
     "text": [
      "['Bob' 'Joe' 'Will']\n",
      "\n",
      "\n",
      "[1 2 3 4]\n",
      "\n",
      "\n",
      "[np.str_('Bob'), np.str_('Joe'), np.str_('Will')]\n",
      "\n",
      "\n",
      "[ True False False  True  True False  True]\n"
     ]
    }
   ],
   "source": [
    "# Unique and Other Set Logic\n",
    "\n",
    "names = np.array(['Bob', 'Joe', 'Will', 'Bob', 'Will', 'Joe', 'Joe'])\n",
    "print(np.unique(names))\n",
    "\n",
    "ints = np.array([3, 3, 3, 2, 2, 1, 1, 4, 4])\n",
    "print(\"\\n\")\n",
    "print(np.unique(ints))\n",
    "\n",
    "print(\"\\n\")\n",
    "print(sorted(set(names)))\n",
    "\n",
    "values = np.array([6, 0, 0, 3, 2, 5, 6])\n",
    "print(\"\\n\")\n",
    "print(np.isin(values, [2, 3, 6]))"
   ]
  },
  {
   "cell_type": "markdown",
   "metadata": {},
   "source": [
    "4.4 File Input and Output with Arrays"
   ]
  },
  {
   "cell_type": "code",
   "execution_count": 194,
   "metadata": {},
   "outputs": [],
   "source": [
    "arr = np.arange(10)\n",
    "np.save('some_array', arr)\n",
    "np.load('some_array.npy')\n",
    "\n",
    "np.savez('array_archive.npz', a=arr, b=arr)\n",
    "arch = np.load('array_archive.npz')\n",
    "arch['b']\n",
    "\n",
    "np.savez_compressed('arrays_compressed.npz', a=arr, b=arr)\n"
   ]
  },
  {
   "cell_type": "markdown",
   "metadata": {},
   "source": [
    "4.5 Linear Algebra"
   ]
  },
  {
   "cell_type": "code",
   "execution_count": 203,
   "metadata": {},
   "outputs": [
    {
     "name": "stdout",
     "output_type": "stream",
     "text": [
      "[[1. 2. 3.]\n",
      " [4. 5. 6.]]\n",
      "\n",
      "\n",
      "[[ 6. 23.]\n",
      " [-1.  7.]\n",
      " [ 8.  9.]]\n",
      "\n",
      "\n",
      "[[ 28.  64.]\n",
      " [ 67. 181.]]\n",
      "\n",
      "\n",
      "[[ 28.  64.]\n",
      " [ 67. 181.]]\n",
      "\n",
      "\n",
      "[ 6. 15.]\n",
      "\n",
      "\n",
      "[ 6. 15.]\n",
      "[[ 0.47369896 -0.58267864 -1.40508933 -0.94861209 -0.05038016]\n",
      " [-0.58267864  2.88379403  4.29482747  2.69617908 -0.58849561]\n",
      " [-1.40508933  4.29482747  7.97423247  4.91679984 -0.66725776]\n",
      " [-0.94861209  2.69617908  4.91679984  3.41098315 -0.37956982]\n",
      " [-0.05038016 -0.58849561 -0.66725776 -0.37956982  0.34103788]]\n",
      "\n",
      "\n",
      "[[ 1.00000000e+00 -1.25395981e-15 -3.77949663e-15 -9.50009886e-16\n",
      "   4.26925944e-17]\n",
      " [ 8.68029871e-17  1.00000000e+00  2.27486246e-16  4.98750504e-16\n",
      "  -6.27651748e-18]\n",
      " [-1.11704465e-16  5.48021424e-16  1.00000000e+00 -6.62999809e-16\n",
      "  -7.57473217e-17]\n",
      " [-3.60974449e-17 -2.28725304e-15 -2.68120059e-15  1.00000000e+00\n",
      "  -1.33960855e-18]\n",
      " [-2.22044605e-16  1.77635684e-15  8.88178420e-16 -8.88178420e-16\n",
      "   1.00000000e+00]]\n",
      "\n",
      "\n",
      "[[-10.40294032   1.11103982  -1.71390256  -2.06915394  -6.45044673]\n",
      " [  0.          -3.63075887   1.04692392   0.85753797  -4.94604813]\n",
      " [  0.           0.          -2.09083377   3.12628416  -1.06164026]\n",
      " [  0.           0.           0.          -0.37393116  -2.21413839]\n",
      " [  0.           0.           0.           0.           0.9738256 ]]\n"
     ]
    }
   ],
   "source": [
    "from numpy.linalg import inv, qr\n",
    "\n",
    "x = np.array([[1., 2., 3.], [4., 5., 6.]])\n",
    "y = np.array([[6., 23.], [-1, 7], [8, 9]])\n",
    "print(x)\n",
    "print(\"\\n\")\n",
    "print(y)\n",
    "print(\"\\n\")\n",
    "print(x.dot(y))\n",
    "print(\"\\n\")\n",
    "print(np.dot(x, y))\n",
    "print(\"\\n\")\n",
    "print(np.dot(x, np.ones(3)))\n",
    "print(\"\\n\")\n",
    "print(x @ np.ones(3))\n",
    "\n",
    "X = np.random.randn(5, 5)\n",
    "mat = X.T.dot(X)\n",
    "print(inv(mat))\n",
    "print(\"\\n\")\n",
    "print(mat.dot(inv(mat)))\n",
    "\n",
    "q, r = qr(mat)\n",
    "print(\"\\n\")\n",
    "print(r)"
   ]
  },
  {
   "cell_type": "markdown",
   "metadata": {},
   "source": [
    "4.6 Pseudorandom Number Generation"
   ]
  },
  {
   "cell_type": "code",
   "execution_count": 215,
   "metadata": {},
   "outputs": [
    {
     "name": "stdout",
     "output_type": "stream",
     "text": [
      "[[ 4.71435164e-01 -1.19097569e+00  1.43270697e+00 -3.12651896e-01]\n",
      " [-7.20588733e-01  8.87162940e-01  8.59588414e-01 -6.36523504e-01]\n",
      " [ 1.56963721e-02 -2.24268495e+00  1.15003572e+00  9.91946022e-01]\n",
      " [ 9.53324128e-01 -2.02125482e+00 -3.34077366e-01  2.11836468e-03]]\n",
      "Execution time for normalvariate: 0.2522 seconds\n",
      "Execution time for numpy: 0.0093 seconds\n",
      "\n",
      "\n",
      "[ 0.47143516 -1.19097569  1.43270697 -0.3126519  -0.72058873  0.88716294\n",
      "  0.85958841 -0.6365235   0.01569637 -2.24268495]\n"
     ]
    }
   ],
   "source": [
    "from random import normalvariate\n",
    "import timeit\n",
    "\n",
    "samples = np.random.normal(size=(4, 4))\n",
    "print(samples)\n",
    "\n",
    "N = 1000000\n",
    "\n",
    "time_normalvariate = timeit.timeit(\n",
    "    lambda: [normalvariate(0, 1) for _ in range(N)],\n",
    "    number=1\n",
    ")\n",
    "print(f\"Execution time for normalvariate: {time_normalvariate:.4f} seconds\")\n",
    "\n",
    "time_numpy = timeit.timeit(\n",
    "    lambda: np.random.normal(size=N),\n",
    "    number=1\n",
    ")\n",
    "print(f\"Execution time for numpy: {time_numpy:.4f} seconds\")\n",
    "\n",
    "np.random.seed(1234)\n",
    "\n",
    "rng = np.random.RandomState(1234)\n",
    "print(\"\\n\")\n",
    "print(rng.randn(10))\n"
   ]
  },
  {
   "cell_type": "markdown",
   "metadata": {},
   "source": [
    "4.7 Example: Random Walks"
   ]
  },
  {
   "cell_type": "code",
   "execution_count": 229,
   "metadata": {},
   "outputs": [
    {
     "name": "stdout",
     "output_type": "stream",
     "text": [
      "-15\n",
      "28\n",
      "61\n",
      "\n",
      "\n",
      "[[ -1   0  -1 ...  22  23  24]\n",
      " [ -1  -2  -3 ...   4   5   6]\n",
      " [ -1   0   1 ... -16 -17 -18]\n",
      " ...\n",
      " [  1   0  -1 ...  36  37  38]\n",
      " [ -1  -2  -3 ... -12 -11 -10]\n",
      " [  1   0  -1 ...   8   9   8]]\n",
      "112\n",
      "-133\n",
      "[False  True  True ...  True False False]\n",
      "3481\n",
      "497.07813846595803\n"
     ]
    },
    {
     "data": {
      "image/png": "[encoded data removed]",
      "text/plain": [
       "<Figure size 640x480 with 1 Axes>"
      ]
     },
     "metadata": {},
     "output_type": "display_data"
    }
   ],
   "source": [
    "import random\n",
    "\n",
    "position = 0\n",
    "walk = [position]\n",
    "steps = 1000\n",
    "for i in range(steps):\n",
    "    step = 1 if random.randint(0, 1) else -1\n",
    "    position += step\n",
    "    walk.append(position)\n",
    "\n",
    "plt.plot(walk[:100])\n",
    "\n",
    "nsteps = 1000\n",
    "draws = np.random.randint(0, 2, size=nsteps)\n",
    "steps = np.where(draws > 0, 1, -1)\n",
    "walk = steps.cumsum()\n",
    "print(walk.min())\n",
    "print(walk.max())\n",
    "print((np.abs(walk) >= 10).argmax())\n",
    "\n",
    "nwalks = 5000\n",
    "nsteps = 1000\n",
    "draws = np.random.randint(0, 2, size=(nwalks, nsteps))\n",
    "steps = np.where(draws > 0, 1, -1)\n",
    "walks = steps.cumsum(1)\n",
    "print('\\n')\n",
    "print(walks)\n",
    "print(walks.max())\n",
    "print(walks.min())\n",
    "hits30 = (np.abs(walks) >= 30).any(1)\n",
    "print(hits30) \n",
    "print(hits30.sum())\n",
    "\n",
    "crossing_times = (np.abs(walks[hits30]) >= 30).argmax(1)\n",
    "print(crossing_times.mean())"
   ]
  }
 ],
 "metadata": {
  "kernelspec": {
   "display_name": ".venv",
   "language": "python",
   "name": "python3"
  },
  "language_info": {
   "codemirror_mode": {
    "name": "ipython",
    "version": 3
   },
   "file_extension": ".py",
   "mimetype": "text/x-python",
   "name": "python",
   "nbconvert_exporter": "python",
   "pygments_lexer": "ipython3",
   "version": "3.13.3"
  }
 },
 "nbformat": 4,
 "nbformat_minor": 2
}
